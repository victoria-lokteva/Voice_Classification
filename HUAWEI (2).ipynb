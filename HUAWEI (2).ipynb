{
  "cells": [
    {
      "cell_type": "code",
      "execution_count": 36,
      "metadata": {
        "id": "n-3NIe2pbIgj"
      },
      "outputs": [],
      "source": [
        "import librosa\n",
        "import librosa.display\n",
        "import torch\n",
        "import torchaudio\n",
        "import torchvision\n",
        "from IPython.display import Audio\n",
        "import matplotlib.pyplot as plt\n",
        "import torch.nn.functional as F\n",
        "import torch.optim as optim\n",
        "from tqdm.notebook import tqdm\n",
        "import numpy as np\n",
        "import pandas as pd\n",
        "from sklearn.metrics import roc_auc_score, accuracy_score\n",
        "import torchvision.transforms as transforms"
      ]
    },
    {
      "cell_type": "code",
      "execution_count": 39,
      "metadata": {
        "id": "Efig7uKJGkOu"
      },
      "outputs": [],
      "source": [
        "def random_seed(rs=10):\n",
        "    np.random.seed(rs)\n",
        "    torch.manual_seed(rs)\n",
        "    torch.cuda.manual_seed(rs)\n",
        "    torch.backends.cudnn.deterministic = True\n",
        "\n",
        "random_seed()"
      ]
    },
    {
      "cell_type": "code",
      "execution_count": 40,
      "metadata": {
        "id": "xYg4zMc-j9sE"
      },
      "outputs": [],
      "source": [
        "class AudioDataset(torch.utils.data.Dataset):\n",
        "  def __init__(self, training=True, sample_rate=24000, n_mels=64, new_size=299, train_size=25000):\n",
        "    dataset = torchaudio.datasets.LIBRITTS('.', download=True)\n",
        "    # Разобъём на тренировочную и валидационную выборки\n",
        "    validation_size = len(dataset)-train_size\n",
        "    train, validation = torch.utils.data.random_split(dataset, [train_size, validation_size])\n",
        "    if training:\n",
        "      self.data = train\n",
        "    else:\n",
        "      self.data = validation\n",
        "    self.sample_rate=sample_rate\n",
        "    self.n_mels = n_mels\n",
        "    self.resampling = torchaudio.transforms.Resample(new_freq=sample_rate)\n",
        "    self.transform = transforms.Compose([transforms.ToPILImage(),\n",
        "                                         transforms.Resize((new_size, new_size)), transforms.ToTensor()])\n",
        "   \n",
        "    df = pd.read_csv('speakers.tsv', sep='\\t',index_col=None).reset_index()\n",
        "    self.speakers = dict(zip(df['index'], df['READER']))\n",
        "\n",
        "  def mel_spectr(self, wave):\n",
        "    # Преобразование Фурье с логарифмической шкалой частот \n",
        "    transform = torchaudio.transforms.MelSpectrogram(n_mels=self.n_mels, sample_rate=self.sample_rate)\n",
        "    # Переведем амплитуду в децибелы \n",
        "    to_db = torchaudio.transforms.AmplitudeToDB()\n",
        "\n",
        "    spec = transform(wave)\n",
        "    spec = to_db(spec)\n",
        "    spec = torch.squeeze(spec)\n",
        "    return spec\n",
        "\n",
        "  def spec_to_img(self, spec):\n",
        "    mean, std = torch.mean(spec), torch.std(spec)\n",
        "    # отцентрируем и нормализуем спектр в диапазоне от 0 до 255\n",
        "    spec = (spec-mean)/(std+0.000001)\n",
        "    min_val, max_val = torch.min(spec), torch.max(spec)\n",
        "    spec = 255*(spec -min_val)/(max_val- min_val)\n",
        "    return spec\n",
        "\n",
        "  def __len__(self):\n",
        "    return len(self.data)\n",
        "\n",
        "  def __getitem__(self, index):\n",
        "\n",
        "    item = list(self.data[index])\n",
        "    waveform = item[0]\n",
        "   \n",
        "    waveform = self.resampling(waveform)\n",
        "    waveform = self.mel_spectr(waveform)\n",
        "    waveform = self.spec_to_img(waveform)\n",
        "    waveform = self.transform(waveform)\n",
        "    speaker_id = item[4]\n",
        "    gender = self.speakers[speaker_id]\n",
        "    if gender == 'M':\n",
        "      gender = 1.\n",
        "    elif gender == 'F':\n",
        "      gender = 0.\n",
        "    return waveform.float(), gender"
      ]
    },
    {
      "cell_type": "code",
      "execution_count": 41,
      "metadata": {
        "id": "lbivyzTV7xYu"
      },
      "outputs": [],
      "source": [
        "class Model(torch.nn.Module):\n",
        "    def __init__(self):\n",
        "      super().__init__()\n",
        "      self.conv = torch.nn.Conv2d(in_channels=1, out_channels=3, kernel_size=1)\n",
        "      self.inception  = torchvision.models.inception_v3(pretrained=True)\n",
        "      for parameter in self.inception.parameters():\n",
        "          parameter.requires_grad = False\n",
        "      self.inception.aux_logits=False\n",
        "      in_features = self.inception.fc.in_features\n",
        "      self.inception.fc =  torch.nn.Linear(in_features=in_features, out_features=1)\n",
        "      self.sigmoid = torch.nn.Sigmoid()\n",
        "\n",
        "    def forward(self, x):\n",
        "        x = self.conv(x)\n",
        "        x = self.inception(x)\n",
        "        x = self.sigmoid(x)\n",
        "        return x"
      ]
    },
    {
      "cell_type": "code",
      "source": [
        "class CNN(torch.nn.Module):\n",
        "    def __init__(self):\n",
        "        super().__init__()\n",
        "        self.c = torch.nn.Conv2d(in_channels= 1, out_channels=3, kernel_size=1)\n",
        "        self.conv1 = torch.nn.Conv2d(in_channels= 3, out_channels=64, kernel_size=3, stride=2, padding=2, dilation=5)\n",
        "        self.bn1 = torch.nn.BatchNorm2d(64)\n",
        "        self.conv2 = torch.nn.Conv2d(in_channels=64, out_channels=4, kernel_size=3, padding=2, dilation=3)\n",
        "        self.bn2 = torch.nn.BatchNorm2d(4)\n",
        "        self.conv1x1 = torch.nn.Conv2d(in_channels=4, out_channels=1, kernel_size=1)\n",
        "        self.adpool = torch.nn.AdaptiveAvgPool2d((5, 5))\n",
        "        self.flatten = torch.nn.Flatten()\n",
        "        self.fc = torch.nn.Linear(in_features=25, out_features=1, bias=True)\n",
        "        self.sigmoid = torch.nn.Sigmoid()\n",
        "\n",
        "    def forward(self, x):\n",
        "        x = self.c(x)\n",
        "        x = F.relu(self.conv1(x))\n",
        "        x = self.bn1(x)\n",
        "        x = F.relu(self.conv2(x))\n",
        "        x = self.bn2(x)\n",
        "        x = self.conv1x1(x)\n",
        "        x = self.adpool(x)\n",
        "        x = self.flatten(x)\n",
        "        x = self.fc(x)\n",
        "        x = self.sigmoid(x)\n",
        "        return x\n"
      ],
      "metadata": {
        "id": "vHBEJISucvNl"
      },
      "execution_count": 42,
      "outputs": []
    },
    {
      "cell_type": "code",
      "execution_count": 43,
      "metadata": {
        "id": "12nU6RiL7WPQ"
      },
      "outputs": [],
      "source": [
        "def test(model, dataloader, device_name, threshold=0.5):\n",
        "    device = torch.device(device_name)\n",
        "    model = model.to(device)\n",
        "    predicted_labels = []\n",
        "    predicted_probabilities = []\n",
        "    loss_func = torch.nn.BCELoss()\n",
        "    labels = []\n",
        "    test_loss = 0\n",
        "    \n",
        "    test_loader = iter(dataloader)\n",
        "    model.eval()\n",
        "\n",
        "    with torch.no_grad():\n",
        "        for batch, (X, Y) in enumerate((test_loader)):\n",
        "            X, Y = X.to(device), Y.to(device)\n",
        "            pred = model(X)\n",
        "\n",
        "            pred_labels = pred >= threshold\n",
        "            loss = loss_func(pred.double(), Y.unsqueeze(1))\n",
        "\n",
        "            labels.extend(Y.tolist())\n",
        "            predicted_labels.extend(pred_labels.squeeze().tolist())\n",
        "            predicted_probabilities.extend(pred.squeeze().tolist())\n",
        "            test_loss += loss.item()\n",
        "\n",
        "    accuracy = accuracy_score(labels, predicted_labels)\n",
        "    rocauc = roc_auc_score(labels, predicted_probabilities)\n",
        "    print('Test Loss: %0.2f %% ' % (test_loss),\n",
        "            'Accuracy: %0.2f %% ' % (accuracy),\n",
        "            'RocAUC: %0.2f %% ' % (rocauc))\n",
        "\n",
        "\n",
        "def train(dataloader, testloader, device_name, model, lr=0.001, num_epoch=30, path = './weights',\n",
        "          gamma=0.2, milestones=[25, 40]):\n",
        "    device = torch.device(device_name if torch.cuda.is_available() else 'cpu')\n",
        "    model = model.to(device)\n",
        "    optimizer = optim.Adam(model.parameters(), lr = lr)\n",
        "    scheduler = optim.lr_scheduler.MultiStepLR(optimizer, milestones=milestones, gamma=gamma)\n",
        "    loss_func = torch.nn.BCELoss()\n",
        "\n",
        "    for epoch in tqdm(range(num_epoch)):\n",
        "        train_loader = iter(dataloader)\n",
        "        train_loss = 0\n",
        "        for batch, (X, Y) in enumerate(train_loader):\n",
        "            X, Y = X.to(device), Y.to(device)\n",
        "            optimizer.zero_grad()\n",
        "            pred = model(X)\n",
        "            \n",
        "            loss = loss_func(pred.double(), Y.unsqueeze(1))\n",
        "            train_loss += loss.item()\n",
        "            loss.backward()\n",
        "            optimizer.step()\n",
        "            scheduler.step()\n",
        "\n",
        "        if epoch % 15 == 0:\n",
        "            print(\"Epoch:  \", epoch, \"    Train Loss:  \", train_loss)\n",
        "        if epoch % 2 == 0:\n",
        "            torch.save(model.state_dict(), path)\n",
        "        # if epoch % 8 == 0 and epoch >0:\n",
        "            # test(model, testloader, device, inception=inception)\n",
        "        if epoch % 1 == 0 :\n",
        "            test(model, testloader, device)\n",
        "\n",
        "    return model\n"
      ]
    },
    {
      "cell_type": "markdown",
      "source": [
        "*Inception model*"
      ],
      "metadata": {
        "id": "qNu63ta8WZIy"
      }
    },
    {
      "cell_type": "code",
      "source": [
        "train_data = AudioDataset(training=True, train_size=25000)\n",
        "validation = AudioDataset(training=False)\n",
        "\n",
        "train_loader = torch.utils.data.DataLoader(train_data,  batch_size=64, shuffle=True)\n",
        "test_loader = torch.utils.data.DataLoader(validation,  batch_size=64)"
      ],
      "metadata": {
        "id": "aypoLSFAsQlM"
      },
      "execution_count": 27,
      "outputs": []
    },
    {
      "cell_type": "code",
      "source": [
        "model = Model()\n",
        "model = train(train_loader, test_loader, 'cuda:0', model, lr=0.01, num_epoch=2, \n",
        "              path=\"./weights_inception\")"
      ],
      "metadata": {
        "id": "vsQ6uph6yPZ-"
      },
      "execution_count": 46,
      "outputs": []
    },
    {
      "cell_type": "code",
      "source": [
        ""
      ],
      "metadata": {
        "id": "Gc0IoHLEsI7l"
      },
      "execution_count": null,
      "outputs": []
    },
    {
      "cell_type": "code",
      "source": [
        ""
      ],
      "metadata": {
        "id": "HNDu1fvdsJBj"
      },
      "execution_count": null,
      "outputs": []
    },
    {
      "cell_type": "markdown",
      "source": [
        "*Dilated CNN model*"
      ],
      "metadata": {
        "id": "mCcgJtx6WeV9"
      }
    },
    {
      "cell_type": "code",
      "source": [
        "train_data = AudioDataset(training=True, new_size=100)\n",
        "validation = AudioDataset(training=False, new_size=100)\n",
        "train_loader_cnn = torch.utils.data.DataLoader(train_data,  batch_size=64, shuffle=True)\n",
        "test_loader_cnn = torch.utils.data.DataLoader(validation,  batch_size=64)"
      ],
      "metadata": {
        "id": "GVrZHchMtAC-"
      },
      "execution_count": null,
      "outputs": []
    },
    {
      "cell_type": "code",
      "source": [
        "cnn_model = CNN()"
      ],
      "metadata": {
        "id": "Mp6KXrPfKC1H"
      },
      "execution_count": 9,
      "outputs": []
    },
    {
      "cell_type": "code",
      "source": [
        "cnn_model = train(train_loader_cnn, test_loader_cnn, 'cuda:0', cnn_model, lr=0.01, num_epoch=30, path=\"./weights_cnn\",\n",
        "                  milestones=[8, 27])"
      ],
      "metadata": {
        "colab": {
          "base_uri": "https://localhost:8080/",
          "height": 120,
          "referenced_widgets": [
            "4718488f708647be98400356b5782397",
            "9cb9dc4937b14659a68091f3581df801",
            "83bf582da4174ec9a830b952cc6366fc",
            "d84a13bc652f48d897001f59f3152d5a",
            "6ce07b2cb3cf418f878f834174fcc5a0",
            "5375194f65ef4df780e89e51e4621232",
            "db636dfdc39f4183a5057218f7012ffa",
            "e1bbfb381ea645e19fe1cac55a79fa8d",
            "94a8158fe31241bb90b890499af8ffba",
            "e97571be6213421a9382c1b83848ea58",
            "dba34366a8e941e2b4aa551bf3c23d6e"
          ]
        },
        "id": "nGOYy6rtJrSx",
        "outputId": "16b19eab-383f-47f6-ff80-e80f324fb7dd"
      },
      "execution_count": null,
      "outputs": [
        {
          "output_type": "display_data",
          "data": {
            "application/vnd.jupyter.widget-view+json": {
              "model_id": "4718488f708647be98400356b5782397",
              "version_minor": 0,
              "version_major": 2
            },
            "text/plain": [
              "  0%|          | 0/30 [00:00<?, ?it/s]"
            ]
          },
          "metadata": {}
        },
        {
          "output_type": "stream",
          "name": "stdout",
          "text": [
            "Epoch:   0     Train Loss:   270.4504811123195\n",
            "Test Loss: 113.63 %  Accuracy: 0.47 %  RocAUC: 0.53 % \n",
            "Epoch:   15     Train Loss:   270.2598693713859\n",
            "Test Loss: 89.17 %  Accuracy: 0.53 %  RocAUC: 0.51 % \n"
          ]
        }
      ]
    },
    {
      "cell_type": "code",
      "source": [
        "cnn_model = train(train_loader_cnn, test_loader_cnn, 'cuda:0', cnn_model, lr=0.001, num_epoch=21, path=\"./weights_cnn\",\n",
        "                  milestones=[9, 18])"
      ],
      "metadata": {
        "colab": {
          "base_uri": "https://localhost:8080/",
          "height": 67,
          "referenced_widgets": [
            "c1ff1d47b8d64d0f8e25986af129a448",
            "c34484577a9e44bd85058fcedb2db2d5",
            "d4e463422ac04fd8a6f8932d5252e684",
            "c48274ccaa6041299094a33e0e909300",
            "aa5405aed217495cad96094f0ba6a70c",
            "3d6f150a7d4d482ba2329e1550aab8ac",
            "209a1be31a5040e6aa075f86dc8e5956",
            "322cd0e4a3cf4245845a49d6f5e03e1a",
            "5abbcdddbdbc4cceac0f95b57669404b",
            "049cee9e28bb41b49d366db5588e1ed3",
            "453485e40f97458ab6a92a46b8f73353"
          ]
        },
        "id": "ApBkmvpFe7Ts",
        "outputId": "79a5f1d6-dca1-40ac-d85a-9f414b29f22d"
      },
      "execution_count": null,
      "outputs": [
        {
          "output_type": "display_data",
          "data": {
            "application/vnd.jupyter.widget-view+json": {
              "model_id": "c1ff1d47b8d64d0f8e25986af129a448",
              "version_minor": 0,
              "version_major": 2
            },
            "text/plain": [
              "  0%|          | 0/21 [00:00<?, ?it/s]"
            ]
          },
          "metadata": {}
        },
        {
          "output_type": "stream",
          "name": "stdout",
          "text": [
            "Epoch:   0     Train Loss:   269.09093327473437\n"
          ]
        }
      ]
    },
    {
      "cell_type": "code",
      "source": [
        "cnn_model.load_state_dict(torch.load(\"weights_cnn(4)\", map_location=torch.device('cpu')))"
      ],
      "metadata": {
        "colab": {
          "base_uri": "https://localhost:8080/"
        },
        "id": "knTzIIMMKlU7",
        "outputId": "83621699-ce4a-48bd-abf9-3d8cbc2420a4"
      },
      "execution_count": 13,
      "outputs": [
        {
          "output_type": "execute_result",
          "data": {
            "text/plain": [
              "<All keys matched successfully>"
            ]
          },
          "metadata": {},
          "execution_count": 13
        }
      ]
    },
    {
      "cell_type": "code",
      "source": [
        "cnn_model = train(train_loader_cnn, test_loader_cnn, 'cpu', cnn_model, lr=0.001, num_epoch=25, path=\"./weights_cnn\",\n",
        "                  milestones=[6, 21])"
      ],
      "metadata": {
        "colab": {
          "base_uri": "https://localhost:8080/",
          "height": 138,
          "referenced_widgets": [
            "f63882124fd643649c65c7a131749ae8",
            "7a2b0ec6c8b94211aa4515115a1f5a22",
            "5479d8fc734842868511ef568f218842",
            "8e526a5b7ae4442ca4915536881405fe",
            "e801396f33d240aaa290168df2266366",
            "1405336958a24f70a6ea1ffd715eb14e",
            "c8a5da33c8bc4f0eb9e743c58c02b350",
            "0e2f9eae5df6472b81b94fbcea697206",
            "0deaf7c89a3e4e5ea27a78a2e7acda8a",
            "164a66ed074a4e7c98e64b2665956aab",
            "0856672ca35e4d568842690b6b5e8929"
          ]
        },
        "id": "7U9Av9GBKlce",
        "outputId": "447c8d08-40bd-40f6-d6fb-60579d88249c"
      },
      "execution_count": 15,
      "outputs": [
        {
          "data": {
            "application/vnd.jupyter.widget-view+json": {
              "model_id": "f63882124fd643649c65c7a131749ae8",
              "version_major": 2,
              "version_minor": 0
            },
            "text/plain": [
              "  0%|          | 0/25 [00:00<?, ?it/s]"
            ]
          },
          "metadata": {},
          "output_type": "display_data"
        },
        {
          "output_type": "stream",
          "name": "stdout",
          "text": [
            "Epoch:   0     Train Loss:   269.72026048027664\n",
            "Test Loss: 88.85 %  Accuracy: 0.54 %  RocAUC: 0.55 % \n",
            "Epoch:   15     Train Loss:   269.0701161756675\n",
            "Test Loss: 88.83 %  Accuracy: 0.54 %  RocAUC: 0.54 % \n",
            "Test Loss: 88.75 %  Accuracy: 0.54 %  RocAUC: 0.55 % \n"
          ]
        }
      ]
    },
    {
      "cell_type": "code",
      "source": [
        ""
      ],
      "metadata": {
        "id": "V8KMQW-DoYhz"
      },
      "execution_count": null,
      "outputs": []
    },
    {
      "cell_type": "code",
      "source": [
        "test(cnn_model, test_loader_cnn, 'cpu')"
      ],
      "metadata": {
        "id": "VcajBphGe7Wy",
        "colab": {
          "base_uri": "https://localhost:8080/"
        },
        "outputId": "d114d95f-59c3-4627-8fc4-38892bfa1135"
      },
      "execution_count": 16,
      "outputs": [
        {
          "output_type": "stream",
          "name": "stdout",
          "text": [
            "Test Loss: 88.75 %  Accuracy: 0.54 %  RocAUC: 0.55 % \n"
          ]
        }
      ]
    },
    {
      "cell_type": "code",
      "source": [
        ""
      ],
      "metadata": {
        "id": "fJIcllBiU-k1"
      },
      "execution_count": null,
      "outputs": []
    },
    {
      "cell_type": "code",
      "source": [
        ""
      ],
      "metadata": {
        "id": "keaKKlFcU-nL"
      },
      "execution_count": null,
      "outputs": []
    },
    {
      "cell_type": "code",
      "execution_count": null,
      "metadata": {
        "id": "9RBEH8gP7b1P"
      },
      "outputs": [],
      "source": [
        ""
      ]
    },
    {
      "cell_type": "code",
      "source": [
        ""
      ],
      "metadata": {
        "id": "FA-AaVTVHfBw"
      },
      "execution_count": null,
      "outputs": []
    },
    {
      "cell_type": "code",
      "source": [
        ""
      ],
      "metadata": {
        "id": "UcSRA753SrKp"
      },
      "execution_count": null,
      "outputs": []
    },
    {
      "cell_type": "code",
      "source": [
        ""
      ],
      "metadata": {
        "id": "KnKeuBJVt7Xb"
      },
      "execution_count": null,
      "outputs": []
    },
    {
      "cell_type": "code",
      "execution_count": null,
      "metadata": {
        "id": "PyC7Krr87b4M"
      },
      "outputs": [],
      "source": [
        ""
      ]
    },
    {
      "cell_type": "code",
      "execution_count": null,
      "metadata": {
        "id": "z370jwWO7b6w"
      },
      "outputs": [],
      "source": [
        ""
      ]
    },
    {
      "cell_type": "code",
      "execution_count": null,
      "metadata": {
        "id": "RUDy5KsX7b9V"
      },
      "outputs": [],
      "source": [
        ""
      ]
    },
    {
      "cell_type": "code",
      "execution_count": null,
      "metadata": {
        "id": "_Bf_tTEc7b_9"
      },
      "outputs": [],
      "source": [
        ""
      ]
    },
    {
      "cell_type": "code",
      "execution_count": null,
      "metadata": {
        "id": "mOWrqgUX7cCE"
      },
      "outputs": [],
      "source": [
        ""
      ]
    },
    {
      "cell_type": "code",
      "execution_count": null,
      "metadata": {
        "id": "yxpV1Qaq7cE4"
      },
      "outputs": [],
      "source": [
        ""
      ]
    },
    {
      "cell_type": "code",
      "execution_count": null,
      "metadata": {
        "id": "50a-NcSS7cHw"
      },
      "outputs": [],
      "source": [
        ""
      ]
    },
    {
      "cell_type": "code",
      "execution_count": null,
      "metadata": {
        "id": "RRRHRZCG7cKG"
      },
      "outputs": [],
      "source": [
        ""
      ]
    },
    {
      "cell_type": "code",
      "execution_count": null,
      "metadata": {
        "id": "_HrQiRGV7cMu"
      },
      "outputs": [],
      "source": [
        ""
      ]
    },
    {
      "cell_type": "code",
      "execution_count": null,
      "metadata": {
        "id": "Lh2OanPv7cQG"
      },
      "outputs": [],
      "source": [
        ""
      ]
    }
  ],
  "metadata": {
    "colab": {
      "collapsed_sections": [],
      "name": "HUAWEI.ipynb",
      "provenance": []
    },
    "kernelspec": {
      "display_name": "Python 3",
      "name": "python3"
    },
    "language_info": {
      "name": "python"
    },
    "widgets": {
      "application/vnd.jupyter.widget-state+json": {
        "4718488f708647be98400356b5782397": {
          "model_module": "@jupyter-widgets/controls",
          "model_name": "HBoxModel",
          "model_module_version": "1.5.0",
          "state": {
            "_view_name": "HBoxView",
            "_dom_classes": [],
            "_model_name": "HBoxModel",
            "_view_module": "@jupyter-widgets/controls",
            "_model_module_version": "1.5.0",
            "_view_count": null,
            "_view_module_version": "1.5.0",
            "box_style": "",
            "layout": "IPY_MODEL_9cb9dc4937b14659a68091f3581df801",
            "_model_module": "@jupyter-widgets/controls",
            "children": [
              "IPY_MODEL_83bf582da4174ec9a830b952cc6366fc",
              "IPY_MODEL_d84a13bc652f48d897001f59f3152d5a",
              "IPY_MODEL_6ce07b2cb3cf418f878f834174fcc5a0"
            ]
          }
        },
        "9cb9dc4937b14659a68091f3581df801": {
          "model_module": "@jupyter-widgets/base",
          "model_name": "LayoutModel",
          "model_module_version": "1.2.0",
          "state": {
            "_view_name": "LayoutView",
            "grid_template_rows": null,
            "right": null,
            "justify_content": null,
            "_view_module": "@jupyter-widgets/base",
            "overflow": null,
            "_model_module_version": "1.2.0",
            "_view_count": null,
            "flex_flow": null,
            "width": null,
            "min_width": null,
            "border": null,
            "align_items": null,
            "bottom": null,
            "_model_module": "@jupyter-widgets/base",
            "top": null,
            "grid_column": null,
            "overflow_y": null,
            "overflow_x": null,
            "grid_auto_flow": null,
            "grid_area": null,
            "grid_template_columns": null,
            "flex": null,
            "_model_name": "LayoutModel",
            "justify_items": null,
            "grid_row": null,
            "max_height": null,
            "align_content": null,
            "visibility": null,
            "align_self": null,
            "height": null,
            "min_height": null,
            "padding": null,
            "grid_auto_rows": null,
            "grid_gap": null,
            "max_width": null,
            "order": null,
            "_view_module_version": "1.2.0",
            "grid_template_areas": null,
            "object_position": null,
            "object_fit": null,
            "grid_auto_columns": null,
            "margin": null,
            "display": null,
            "left": null
          }
        },
        "83bf582da4174ec9a830b952cc6366fc": {
          "model_module": "@jupyter-widgets/controls",
          "model_name": "HTMLModel",
          "model_module_version": "1.5.0",
          "state": {
            "_view_name": "HTMLView",
            "style": "IPY_MODEL_5375194f65ef4df780e89e51e4621232",
            "_dom_classes": [],
            "description": "",
            "_model_name": "HTMLModel",
            "placeholder": "​",
            "_view_module": "@jupyter-widgets/controls",
            "_model_module_version": "1.5.0",
            "value": "100%",
            "_view_count": null,
            "_view_module_version": "1.5.0",
            "description_tooltip": null,
            "_model_module": "@jupyter-widgets/controls",
            "layout": "IPY_MODEL_db636dfdc39f4183a5057218f7012ffa"
          }
        },
        "d84a13bc652f48d897001f59f3152d5a": {
          "model_module": "@jupyter-widgets/controls",
          "model_name": "FloatProgressModel",
          "model_module_version": "1.5.0",
          "state": {
            "_view_name": "ProgressView",
            "style": "IPY_MODEL_e1bbfb381ea645e19fe1cac55a79fa8d",
            "_dom_classes": [],
            "description": "",
            "_model_name": "FloatProgressModel",
            "bar_style": "success",
            "max": 30,
            "_view_module": "@jupyter-widgets/controls",
            "_model_module_version": "1.5.0",
            "value": 30,
            "_view_count": null,
            "_view_module_version": "1.5.0",
            "orientation": "horizontal",
            "min": 0,
            "description_tooltip": null,
            "_model_module": "@jupyter-widgets/controls",
            "layout": "IPY_MODEL_94a8158fe31241bb90b890499af8ffba"
          }
        },
        "6ce07b2cb3cf418f878f834174fcc5a0": {
          "model_module": "@jupyter-widgets/controls",
          "model_name": "HTMLModel",
          "model_module_version": "1.5.0",
          "state": {
            "_view_name": "HTMLView",
            "style": "IPY_MODEL_e97571be6213421a9382c1b83848ea58",
            "_dom_classes": [],
            "description": "",
            "_model_name": "HTMLModel",
            "placeholder": "​",
            "_view_module": "@jupyter-widgets/controls",
            "_model_module_version": "1.5.0",
            "value": " 30/30 [2:53:41&lt;00:00, 342.36s/it]",
            "_view_count": null,
            "_view_module_version": "1.5.0",
            "description_tooltip": null,
            "_model_module": "@jupyter-widgets/controls",
            "layout": "IPY_MODEL_dba34366a8e941e2b4aa551bf3c23d6e"
          }
        },
        "5375194f65ef4df780e89e51e4621232": {
          "model_module": "@jupyter-widgets/controls",
          "model_name": "DescriptionStyleModel",
          "model_module_version": "1.5.0",
          "state": {
            "_view_name": "StyleView",
            "_model_name": "DescriptionStyleModel",
            "description_width": "",
            "_view_module": "@jupyter-widgets/base",
            "_model_module_version": "1.5.0",
            "_view_count": null,
            "_view_module_version": "1.2.0",
            "_model_module": "@jupyter-widgets/controls"
          }
        },
        "db636dfdc39f4183a5057218f7012ffa": {
          "model_module": "@jupyter-widgets/base",
          "model_name": "LayoutModel",
          "model_module_version": "1.2.0",
          "state": {
            "_view_name": "LayoutView",
            "grid_template_rows": null,
            "right": null,
            "justify_content": null,
            "_view_module": "@jupyter-widgets/base",
            "overflow": null,
            "_model_module_version": "1.2.0",
            "_view_count": null,
            "flex_flow": null,
            "width": null,
            "min_width": null,
            "border": null,
            "align_items": null,
            "bottom": null,
            "_model_module": "@jupyter-widgets/base",
            "top": null,
            "grid_column": null,
            "overflow_y": null,
            "overflow_x": null,
            "grid_auto_flow": null,
            "grid_area": null,
            "grid_template_columns": null,
            "flex": null,
            "_model_name": "LayoutModel",
            "justify_items": null,
            "grid_row": null,
            "max_height": null,
            "align_content": null,
            "visibility": null,
            "align_self": null,
            "height": null,
            "min_height": null,
            "padding": null,
            "grid_auto_rows": null,
            "grid_gap": null,
            "max_width": null,
            "order": null,
            "_view_module_version": "1.2.0",
            "grid_template_areas": null,
            "object_position": null,
            "object_fit": null,
            "grid_auto_columns": null,
            "margin": null,
            "display": null,
            "left": null
          }
        },
        "e1bbfb381ea645e19fe1cac55a79fa8d": {
          "model_module": "@jupyter-widgets/controls",
          "model_name": "ProgressStyleModel",
          "model_module_version": "1.5.0",
          "state": {
            "_view_name": "StyleView",
            "_model_name": "ProgressStyleModel",
            "description_width": "",
            "_view_module": "@jupyter-widgets/base",
            "_model_module_version": "1.5.0",
            "_view_count": null,
            "_view_module_version": "1.2.0",
            "bar_color": null,
            "_model_module": "@jupyter-widgets/controls"
          }
        },
        "94a8158fe31241bb90b890499af8ffba": {
          "model_module": "@jupyter-widgets/base",
          "model_name": "LayoutModel",
          "model_module_version": "1.2.0",
          "state": {
            "_view_name": "LayoutView",
            "grid_template_rows": null,
            "right": null,
            "justify_content": null,
            "_view_module": "@jupyter-widgets/base",
            "overflow": null,
            "_model_module_version": "1.2.0",
            "_view_count": null,
            "flex_flow": null,
            "width": null,
            "min_width": null,
            "border": null,
            "align_items": null,
            "bottom": null,
            "_model_module": "@jupyter-widgets/base",
            "top": null,
            "grid_column": null,
            "overflow_y": null,
            "overflow_x": null,
            "grid_auto_flow": null,
            "grid_area": null,
            "grid_template_columns": null,
            "flex": null,
            "_model_name": "LayoutModel",
            "justify_items": null,
            "grid_row": null,
            "max_height": null,
            "align_content": null,
            "visibility": null,
            "align_self": null,
            "height": null,
            "min_height": null,
            "padding": null,
            "grid_auto_rows": null,
            "grid_gap": null,
            "max_width": null,
            "order": null,
            "_view_module_version": "1.2.0",
            "grid_template_areas": null,
            "object_position": null,
            "object_fit": null,
            "grid_auto_columns": null,
            "margin": null,
            "display": null,
            "left": null
          }
        },
        "e97571be6213421a9382c1b83848ea58": {
          "model_module": "@jupyter-widgets/controls",
          "model_name": "DescriptionStyleModel",
          "model_module_version": "1.5.0",
          "state": {
            "_view_name": "StyleView",
            "_model_name": "DescriptionStyleModel",
            "description_width": "",
            "_view_module": "@jupyter-widgets/base",
            "_model_module_version": "1.5.0",
            "_view_count": null,
            "_view_module_version": "1.2.0",
            "_model_module": "@jupyter-widgets/controls"
          }
        },
        "dba34366a8e941e2b4aa551bf3c23d6e": {
          "model_module": "@jupyter-widgets/base",
          "model_name": "LayoutModel",
          "model_module_version": "1.2.0",
          "state": {
            "_view_name": "LayoutView",
            "grid_template_rows": null,
            "right": null,
            "justify_content": null,
            "_view_module": "@jupyter-widgets/base",
            "overflow": null,
            "_model_module_version": "1.2.0",
            "_view_count": null,
            "flex_flow": null,
            "width": null,
            "min_width": null,
            "border": null,
            "align_items": null,
            "bottom": null,
            "_model_module": "@jupyter-widgets/base",
            "top": null,
            "grid_column": null,
            "overflow_y": null,
            "overflow_x": null,
            "grid_auto_flow": null,
            "grid_area": null,
            "grid_template_columns": null,
            "flex": null,
            "_model_name": "LayoutModel",
            "justify_items": null,
            "grid_row": null,
            "max_height": null,
            "align_content": null,
            "visibility": null,
            "align_self": null,
            "height": null,
            "min_height": null,
            "padding": null,
            "grid_auto_rows": null,
            "grid_gap": null,
            "max_width": null,
            "order": null,
            "_view_module_version": "1.2.0",
            "grid_template_areas": null,
            "object_position": null,
            "object_fit": null,
            "grid_auto_columns": null,
            "margin": null,
            "display": null,
            "left": null
          }
        },
        "c1ff1d47b8d64d0f8e25986af129a448": {
          "model_module": "@jupyter-widgets/controls",
          "model_name": "HBoxModel",
          "model_module_version": "1.5.0",
          "state": {
            "_view_name": "HBoxView",
            "_dom_classes": [],
            "_model_name": "HBoxModel",
            "_view_module": "@jupyter-widgets/controls",
            "_model_module_version": "1.5.0",
            "_view_count": null,
            "_view_module_version": "1.5.0",
            "box_style": "",
            "layout": "IPY_MODEL_c34484577a9e44bd85058fcedb2db2d5",
            "_model_module": "@jupyter-widgets/controls",
            "children": [
              "IPY_MODEL_d4e463422ac04fd8a6f8932d5252e684",
              "IPY_MODEL_c48274ccaa6041299094a33e0e909300",
              "IPY_MODEL_aa5405aed217495cad96094f0ba6a70c"
            ]
          }
        },
        "c34484577a9e44bd85058fcedb2db2d5": {
          "model_module": "@jupyter-widgets/base",
          "model_name": "LayoutModel",
          "model_module_version": "1.2.0",
          "state": {
            "_view_name": "LayoutView",
            "grid_template_rows": null,
            "right": null,
            "justify_content": null,
            "_view_module": "@jupyter-widgets/base",
            "overflow": null,
            "_model_module_version": "1.2.0",
            "_view_count": null,
            "flex_flow": null,
            "width": null,
            "min_width": null,
            "border": null,
            "align_items": null,
            "bottom": null,
            "_model_module": "@jupyter-widgets/base",
            "top": null,
            "grid_column": null,
            "overflow_y": null,
            "overflow_x": null,
            "grid_auto_flow": null,
            "grid_area": null,
            "grid_template_columns": null,
            "flex": null,
            "_model_name": "LayoutModel",
            "justify_items": null,
            "grid_row": null,
            "max_height": null,
            "align_content": null,
            "visibility": null,
            "align_self": null,
            "height": null,
            "min_height": null,
            "padding": null,
            "grid_auto_rows": null,
            "grid_gap": null,
            "max_width": null,
            "order": null,
            "_view_module_version": "1.2.0",
            "grid_template_areas": null,
            "object_position": null,
            "object_fit": null,
            "grid_auto_columns": null,
            "margin": null,
            "display": null,
            "left": null
          }
        },
        "d4e463422ac04fd8a6f8932d5252e684": {
          "model_module": "@jupyter-widgets/controls",
          "model_name": "HTMLModel",
          "model_module_version": "1.5.0",
          "state": {
            "_view_name": "HTMLView",
            "style": "IPY_MODEL_3d6f150a7d4d482ba2329e1550aab8ac",
            "_dom_classes": [],
            "description": "",
            "_model_name": "HTMLModel",
            "placeholder": "​",
            "_view_module": "@jupyter-widgets/controls",
            "_model_module_version": "1.5.0",
            "value": " 48%",
            "_view_count": null,
            "_view_module_version": "1.5.0",
            "description_tooltip": null,
            "_model_module": "@jupyter-widgets/controls",
            "layout": "IPY_MODEL_209a1be31a5040e6aa075f86dc8e5956"
          }
        },
        "c48274ccaa6041299094a33e0e909300": {
          "model_module": "@jupyter-widgets/controls",
          "model_name": "FloatProgressModel",
          "model_module_version": "1.5.0",
          "state": {
            "_view_name": "ProgressView",
            "style": "IPY_MODEL_322cd0e4a3cf4245845a49d6f5e03e1a",
            "_dom_classes": [],
            "description": "",
            "_model_name": "FloatProgressModel",
            "bar_style": "",
            "max": 21,
            "_view_module": "@jupyter-widgets/controls",
            "_model_module_version": "1.5.0",
            "value": 10,
            "_view_count": null,
            "_view_module_version": "1.5.0",
            "orientation": "horizontal",
            "min": 0,
            "description_tooltip": null,
            "_model_module": "@jupyter-widgets/controls",
            "layout": "IPY_MODEL_5abbcdddbdbc4cceac0f95b57669404b"
          }
        },
        "aa5405aed217495cad96094f0ba6a70c": {
          "model_module": "@jupyter-widgets/controls",
          "model_name": "HTMLModel",
          "model_module_version": "1.5.0",
          "state": {
            "_view_name": "HTMLView",
            "style": "IPY_MODEL_049cee9e28bb41b49d366db5588e1ed3",
            "_dom_classes": [],
            "description": "",
            "_model_name": "HTMLModel",
            "placeholder": "​",
            "_view_module": "@jupyter-widgets/controls",
            "_model_module_version": "1.5.0",
            "value": " 10/21 [56:01&lt;1:00:39, 330.88s/it]",
            "_view_count": null,
            "_view_module_version": "1.5.0",
            "description_tooltip": null,
            "_model_module": "@jupyter-widgets/controls",
            "layout": "IPY_MODEL_453485e40f97458ab6a92a46b8f73353"
          }
        },
        "3d6f150a7d4d482ba2329e1550aab8ac": {
          "model_module": "@jupyter-widgets/controls",
          "model_name": "DescriptionStyleModel",
          "model_module_version": "1.5.0",
          "state": {
            "_view_name": "StyleView",
            "_model_name": "DescriptionStyleModel",
            "description_width": "",
            "_view_module": "@jupyter-widgets/base",
            "_model_module_version": "1.5.0",
            "_view_count": null,
            "_view_module_version": "1.2.0",
            "_model_module": "@jupyter-widgets/controls"
          }
        },
        "209a1be31a5040e6aa075f86dc8e5956": {
          "model_module": "@jupyter-widgets/base",
          "model_name": "LayoutModel",
          "model_module_version": "1.2.0",
          "state": {
            "_view_name": "LayoutView",
            "grid_template_rows": null,
            "right": null,
            "justify_content": null,
            "_view_module": "@jupyter-widgets/base",
            "overflow": null,
            "_model_module_version": "1.2.0",
            "_view_count": null,
            "flex_flow": null,
            "width": null,
            "min_width": null,
            "border": null,
            "align_items": null,
            "bottom": null,
            "_model_module": "@jupyter-widgets/base",
            "top": null,
            "grid_column": null,
            "overflow_y": null,
            "overflow_x": null,
            "grid_auto_flow": null,
            "grid_area": null,
            "grid_template_columns": null,
            "flex": null,
            "_model_name": "LayoutModel",
            "justify_items": null,
            "grid_row": null,
            "max_height": null,
            "align_content": null,
            "visibility": null,
            "align_self": null,
            "height": null,
            "min_height": null,
            "padding": null,
            "grid_auto_rows": null,
            "grid_gap": null,
            "max_width": null,
            "order": null,
            "_view_module_version": "1.2.0",
            "grid_template_areas": null,
            "object_position": null,
            "object_fit": null,
            "grid_auto_columns": null,
            "margin": null,
            "display": null,
            "left": null
          }
        },
        "322cd0e4a3cf4245845a49d6f5e03e1a": {
          "model_module": "@jupyter-widgets/controls",
          "model_name": "ProgressStyleModel",
          "model_module_version": "1.5.0",
          "state": {
            "_view_name": "StyleView",
            "_model_name": "ProgressStyleModel",
            "description_width": "",
            "_view_module": "@jupyter-widgets/base",
            "_model_module_version": "1.5.0",
            "_view_count": null,
            "_view_module_version": "1.2.0",
            "bar_color": null,
            "_model_module": "@jupyter-widgets/controls"
          }
        },
        "5abbcdddbdbc4cceac0f95b57669404b": {
          "model_module": "@jupyter-widgets/base",
          "model_name": "LayoutModel",
          "model_module_version": "1.2.0",
          "state": {
            "_view_name": "LayoutView",
            "grid_template_rows": null,
            "right": null,
            "justify_content": null,
            "_view_module": "@jupyter-widgets/base",
            "overflow": null,
            "_model_module_version": "1.2.0",
            "_view_count": null,
            "flex_flow": null,
            "width": null,
            "min_width": null,
            "border": null,
            "align_items": null,
            "bottom": null,
            "_model_module": "@jupyter-widgets/base",
            "top": null,
            "grid_column": null,
            "overflow_y": null,
            "overflow_x": null,
            "grid_auto_flow": null,
            "grid_area": null,
            "grid_template_columns": null,
            "flex": null,
            "_model_name": "LayoutModel",
            "justify_items": null,
            "grid_row": null,
            "max_height": null,
            "align_content": null,
            "visibility": null,
            "align_self": null,
            "height": null,
            "min_height": null,
            "padding": null,
            "grid_auto_rows": null,
            "grid_gap": null,
            "max_width": null,
            "order": null,
            "_view_module_version": "1.2.0",
            "grid_template_areas": null,
            "object_position": null,
            "object_fit": null,
            "grid_auto_columns": null,
            "margin": null,
            "display": null,
            "left": null
          }
        },
        "049cee9e28bb41b49d366db5588e1ed3": {
          "model_module": "@jupyter-widgets/controls",
          "model_name": "DescriptionStyleModel",
          "model_module_version": "1.5.0",
          "state": {
            "_view_name": "StyleView",
            "_model_name": "DescriptionStyleModel",
            "description_width": "",
            "_view_module": "@jupyter-widgets/base",
            "_model_module_version": "1.5.0",
            "_view_count": null,
            "_view_module_version": "1.2.0",
            "_model_module": "@jupyter-widgets/controls"
          }
        },
        "453485e40f97458ab6a92a46b8f73353": {
          "model_module": "@jupyter-widgets/base",
          "model_name": "LayoutModel",
          "model_module_version": "1.2.0",
          "state": {
            "_view_name": "LayoutView",
            "grid_template_rows": null,
            "right": null,
            "justify_content": null,
            "_view_module": "@jupyter-widgets/base",
            "overflow": null,
            "_model_module_version": "1.2.0",
            "_view_count": null,
            "flex_flow": null,
            "width": null,
            "min_width": null,
            "border": null,
            "align_items": null,
            "bottom": null,
            "_model_module": "@jupyter-widgets/base",
            "top": null,
            "grid_column": null,
            "overflow_y": null,
            "overflow_x": null,
            "grid_auto_flow": null,
            "grid_area": null,
            "grid_template_columns": null,
            "flex": null,
            "_model_name": "LayoutModel",
            "justify_items": null,
            "grid_row": null,
            "max_height": null,
            "align_content": null,
            "visibility": null,
            "align_self": null,
            "height": null,
            "min_height": null,
            "padding": null,
            "grid_auto_rows": null,
            "grid_gap": null,
            "max_width": null,
            "order": null,
            "_view_module_version": "1.2.0",
            "grid_template_areas": null,
            "object_position": null,
            "object_fit": null,
            "grid_auto_columns": null,
            "margin": null,
            "display": null,
            "left": null
          }
        },
        "f63882124fd643649c65c7a131749ae8": {
          "model_module": "@jupyter-widgets/controls",
          "model_name": "HBoxModel",
          "model_module_version": "1.5.0",
          "state": {
            "_view_name": "HBoxView",
            "_dom_classes": [],
            "_model_name": "HBoxModel",
            "_view_module": "@jupyter-widgets/controls",
            "_model_module_version": "1.5.0",
            "_view_count": null,
            "_view_module_version": "1.5.0",
            "box_style": "",
            "layout": "IPY_MODEL_7a2b0ec6c8b94211aa4515115a1f5a22",
            "_model_module": "@jupyter-widgets/controls",
            "children": [
              "IPY_MODEL_5479d8fc734842868511ef568f218842",
              "IPY_MODEL_8e526a5b7ae4442ca4915536881405fe",
              "IPY_MODEL_e801396f33d240aaa290168df2266366"
            ]
          }
        },
        "7a2b0ec6c8b94211aa4515115a1f5a22": {
          "model_module": "@jupyter-widgets/base",
          "model_name": "LayoutModel",
          "model_module_version": "1.2.0",
          "state": {
            "_view_name": "LayoutView",
            "grid_template_rows": null,
            "right": null,
            "justify_content": null,
            "_view_module": "@jupyter-widgets/base",
            "overflow": null,
            "_model_module_version": "1.2.0",
            "_view_count": null,
            "flex_flow": null,
            "width": null,
            "min_width": null,
            "border": null,
            "align_items": null,
            "bottom": null,
            "_model_module": "@jupyter-widgets/base",
            "top": null,
            "grid_column": null,
            "overflow_y": null,
            "overflow_x": null,
            "grid_auto_flow": null,
            "grid_area": null,
            "grid_template_columns": null,
            "flex": null,
            "_model_name": "LayoutModel",
            "justify_items": null,
            "grid_row": null,
            "max_height": null,
            "align_content": null,
            "visibility": null,
            "align_self": null,
            "height": null,
            "min_height": null,
            "padding": null,
            "grid_auto_rows": null,
            "grid_gap": null,
            "max_width": null,
            "order": null,
            "_view_module_version": "1.2.0",
            "grid_template_areas": null,
            "object_position": null,
            "object_fit": null,
            "grid_auto_columns": null,
            "margin": null,
            "display": null,
            "left": null
          }
        },
        "5479d8fc734842868511ef568f218842": {
          "model_module": "@jupyter-widgets/controls",
          "model_name": "HTMLModel",
          "model_module_version": "1.5.0",
          "state": {
            "_view_name": "HTMLView",
            "style": "IPY_MODEL_1405336958a24f70a6ea1ffd715eb14e",
            "_dom_classes": [],
            "description": "",
            "_model_name": "HTMLModel",
            "placeholder": "​",
            "_view_module": "@jupyter-widgets/controls",
            "_model_module_version": "1.5.0",
            "value": "100%",
            "_view_count": null,
            "_view_module_version": "1.5.0",
            "description_tooltip": null,
            "_model_module": "@jupyter-widgets/controls",
            "layout": "IPY_MODEL_c8a5da33c8bc4f0eb9e743c58c02b350"
          }
        },
        "8e526a5b7ae4442ca4915536881405fe": {
          "model_module": "@jupyter-widgets/controls",
          "model_name": "FloatProgressModel",
          "model_module_version": "1.5.0",
          "state": {
            "_view_name": "ProgressView",
            "style": "IPY_MODEL_0e2f9eae5df6472b81b94fbcea697206",
            "_dom_classes": [],
            "description": "",
            "_model_name": "FloatProgressModel",
            "bar_style": "success",
            "max": 25,
            "_view_module": "@jupyter-widgets/controls",
            "_model_module_version": "1.5.0",
            "value": 25,
            "_view_count": null,
            "_view_module_version": "1.5.0",
            "orientation": "horizontal",
            "min": 0,
            "description_tooltip": null,
            "_model_module": "@jupyter-widgets/controls",
            "layout": "IPY_MODEL_0deaf7c89a3e4e5ea27a78a2e7acda8a"
          }
        },
        "e801396f33d240aaa290168df2266366": {
          "model_module": "@jupyter-widgets/controls",
          "model_name": "HTMLModel",
          "model_module_version": "1.5.0",
          "state": {
            "_view_name": "HTMLView",
            "style": "IPY_MODEL_164a66ed074a4e7c98e64b2665956aab",
            "_dom_classes": [],
            "description": "",
            "_model_name": "HTMLModel",
            "placeholder": "​",
            "_view_module": "@jupyter-widgets/controls",
            "_model_module_version": "1.5.0",
            "value": " 25/25 [5:41:33&lt;00:00, 857.71s/it]",
            "_view_count": null,
            "_view_module_version": "1.5.0",
            "description_tooltip": null,
            "_model_module": "@jupyter-widgets/controls",
            "layout": "IPY_MODEL_0856672ca35e4d568842690b6b5e8929"
          }
        },
        "1405336958a24f70a6ea1ffd715eb14e": {
          "model_module": "@jupyter-widgets/controls",
          "model_name": "DescriptionStyleModel",
          "model_module_version": "1.5.0",
          "state": {
            "_view_name": "StyleView",
            "_model_name": "DescriptionStyleModel",
            "description_width": "",
            "_view_module": "@jupyter-widgets/base",
            "_model_module_version": "1.5.0",
            "_view_count": null,
            "_view_module_version": "1.2.0",
            "_model_module": "@jupyter-widgets/controls"
          }
        },
        "c8a5da33c8bc4f0eb9e743c58c02b350": {
          "model_module": "@jupyter-widgets/base",
          "model_name": "LayoutModel",
          "model_module_version": "1.2.0",
          "state": {
            "_view_name": "LayoutView",
            "grid_template_rows": null,
            "right": null,
            "justify_content": null,
            "_view_module": "@jupyter-widgets/base",
            "overflow": null,
            "_model_module_version": "1.2.0",
            "_view_count": null,
            "flex_flow": null,
            "width": null,
            "min_width": null,
            "border": null,
            "align_items": null,
            "bottom": null,
            "_model_module": "@jupyter-widgets/base",
            "top": null,
            "grid_column": null,
            "overflow_y": null,
            "overflow_x": null,
            "grid_auto_flow": null,
            "grid_area": null,
            "grid_template_columns": null,
            "flex": null,
            "_model_name": "LayoutModel",
            "justify_items": null,
            "grid_row": null,
            "max_height": null,
            "align_content": null,
            "visibility": null,
            "align_self": null,
            "height": null,
            "min_height": null,
            "padding": null,
            "grid_auto_rows": null,
            "grid_gap": null,
            "max_width": null,
            "order": null,
            "_view_module_version": "1.2.0",
            "grid_template_areas": null,
            "object_position": null,
            "object_fit": null,
            "grid_auto_columns": null,
            "margin": null,
            "display": null,
            "left": null
          }
        },
        "0e2f9eae5df6472b81b94fbcea697206": {
          "model_module": "@jupyter-widgets/controls",
          "model_name": "ProgressStyleModel",
          "model_module_version": "1.5.0",
          "state": {
            "_view_name": "StyleView",
            "_model_name": "ProgressStyleModel",
            "description_width": "",
            "_view_module": "@jupyter-widgets/base",
            "_model_module_version": "1.5.0",
            "_view_count": null,
            "_view_module_version": "1.2.0",
            "bar_color": null,
            "_model_module": "@jupyter-widgets/controls"
          }
        },
        "0deaf7c89a3e4e5ea27a78a2e7acda8a": {
          "model_module": "@jupyter-widgets/base",
          "model_name": "LayoutModel",
          "model_module_version": "1.2.0",
          "state": {
            "_view_name": "LayoutView",
            "grid_template_rows": null,
            "right": null,
            "justify_content": null,
            "_view_module": "@jupyter-widgets/base",
            "overflow": null,
            "_model_module_version": "1.2.0",
            "_view_count": null,
            "flex_flow": null,
            "width": null,
            "min_width": null,
            "border": null,
            "align_items": null,
            "bottom": null,
            "_model_module": "@jupyter-widgets/base",
            "top": null,
            "grid_column": null,
            "overflow_y": null,
            "overflow_x": null,
            "grid_auto_flow": null,
            "grid_area": null,
            "grid_template_columns": null,
            "flex": null,
            "_model_name": "LayoutModel",
            "justify_items": null,
            "grid_row": null,
            "max_height": null,
            "align_content": null,
            "visibility": null,
            "align_self": null,
            "height": null,
            "min_height": null,
            "padding": null,
            "grid_auto_rows": null,
            "grid_gap": null,
            "max_width": null,
            "order": null,
            "_view_module_version": "1.2.0",
            "grid_template_areas": null,
            "object_position": null,
            "object_fit": null,
            "grid_auto_columns": null,
            "margin": null,
            "display": null,
            "left": null
          }
        },
        "164a66ed074a4e7c98e64b2665956aab": {
          "model_module": "@jupyter-widgets/controls",
          "model_name": "DescriptionStyleModel",
          "model_module_version": "1.5.0",
          "state": {
            "_view_name": "StyleView",
            "_model_name": "DescriptionStyleModel",
            "description_width": "",
            "_view_module": "@jupyter-widgets/base",
            "_model_module_version": "1.5.0",
            "_view_count": null,
            "_view_module_version": "1.2.0",
            "_model_module": "@jupyter-widgets/controls"
          }
        },
        "0856672ca35e4d568842690b6b5e8929": {
          "model_module": "@jupyter-widgets/base",
          "model_name": "LayoutModel",
          "model_module_version": "1.2.0",
          "state": {
            "_view_name": "LayoutView",
            "grid_template_rows": null,
            "right": null,
            "justify_content": null,
            "_view_module": "@jupyter-widgets/base",
            "overflow": null,
            "_model_module_version": "1.2.0",
            "_view_count": null,
            "flex_flow": null,
            "width": null,
            "min_width": null,
            "border": null,
            "align_items": null,
            "bottom": null,
            "_model_module": "@jupyter-widgets/base",
            "top": null,
            "grid_column": null,
            "overflow_y": null,
            "overflow_x": null,
            "grid_auto_flow": null,
            "grid_area": null,
            "grid_template_columns": null,
            "flex": null,
            "_model_name": "LayoutModel",
            "justify_items": null,
            "grid_row": null,
            "max_height": null,
            "align_content": null,
            "visibility": null,
            "align_self": null,
            "height": null,
            "min_height": null,
            "padding": null,
            "grid_auto_rows": null,
            "grid_gap": null,
            "max_width": null,
            "order": null,
            "_view_module_version": "1.2.0",
            "grid_template_areas": null,
            "object_position": null,
            "object_fit": null,
            "grid_auto_columns": null,
            "margin": null,
            "display": null,
            "left": null
          }
        }
      }
    }
  },
  "nbformat": 4,
  "nbformat_minor": 0
}